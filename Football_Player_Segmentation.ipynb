{
  "nbformat": 4,
  "nbformat_minor": 0,
  "metadata": {
    "colab": {
      "provenance": [],
      "machine_shape": "hm",
      "mount_file_id": "1Qa5IykuNFk78V43CCF_wpNNYAUEU6RaJ",
      "authorship_tag": "ABX9TyONZa/j6VMDxQ2REN2M2Amf",
      "include_colab_link": true
    },
    "kernelspec": {
      "name": "python3",
      "display_name": "Python 3"
    },
    "language_info": {
      "name": "python"
    },
    "accelerator": "GPU",
    "gpuClass": "standard"
  },
  "cells": [
    {
      "cell_type": "markdown",
      "metadata": {
        "id": "view-in-github",
        "colab_type": "text"
      },
      "source": [
        "<a href=\"https://colab.research.google.com/github/kingjiwoo/practice_unet_football_player/blob/main/Football_Player_Segmentation.ipynb\" target=\"_parent\"><img src=\"https://colab.research.google.com/assets/colab-badge.svg\" alt=\"Open In Colab\"/></a>"
      ]
    },
    {
      "cell_type": "code",
      "execution_count": 1,
      "metadata": {
        "id": "XIMiTq2dSEqb"
      },
      "outputs": [],
      "source": [
        "# Common\n",
        "import os \n",
        "import keras\n",
        "import numpy as np\n",
        "import pandas as pd\n",
        "import tensorflow as tf\n",
        "\n",
        "# Data \n",
        "from glob import glob\n",
        "from tqdm import tqdm\n",
        "import tensorflow.image as tfi\n",
        "from tensorflow.keras.utils import load_img, img_to_array\n",
        "\n",
        "# Data Visualization\n",
        "import matplotlib.pyplot as plt\n",
        "\n",
        "# Model\n",
        "from tensorflow.keras.layers import add,Input,Layer,Conv2D,multiply,Dropout,MaxPool2D,Concatenate,Conv2DTranspose,Conv2DTranspose,BatchNormalization\n",
        "from tensorflow.keras.callbacks import Callback, ModelCheckpoint\n",
        "from tensorflow.keras.models import Model\n",
        "\n",
        "# Model Visualization\n",
        "from tensorflow.keras.utils import plot_model"
      ]
    },
    {
      "cell_type": "code",
      "source": [
        "# Root Path\n",
        "image_paths = '/football_images'\n",
        "# All Images and thier respective maps\n",
        "all_images = glob(image_paths + \"*.jpg\")\n",
        "all_paths = [path.replace(\".jpg\",\".jpg___fuse.png\") for path in all_images]"
      ],
      "metadata": {
        "id": "V5UWeEHQTFtM"
      },
      "execution_count": 71,
      "outputs": []
    },
    {
      "cell_type": "code",
      "source": [
        "all_images"
      ],
      "metadata": {
        "colab": {
          "base_uri": "https://localhost:8080/"
        },
        "id": "HICbRG09ierH",
        "outputId": "48f998d2-e6fb-4f6d-e38d-ef5618ae3a26"
      },
      "execution_count": 72,
      "outputs": [
        {
          "output_type": "execute_result",
          "data": {
            "text/plain": [
              "[]"
            ]
          },
          "metadata": {},
          "execution_count": 72
        }
      ]
    },
    {
      "cell_type": "code",
      "source": [],
      "metadata": {
        "id": "c5sRvsPkjAkY"
      },
      "execution_count": null,
      "outputs": []
    }
  ]
}