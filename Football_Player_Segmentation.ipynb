{
  "nbformat": 4,
  "nbformat_minor": 0,
  "metadata": {
    "colab": {
      "provenance": [],
      "machine_shape": "hm",
      "mount_file_id": "1Qa5IykuNFk78V43CCF_wpNNYAUEU6RaJ",
      "authorship_tag": "ABX9TyPgDawwPuT5NHxXkKI5Cxlz",
      "include_colab_link": true
    },
    "kernelspec": {
      "name": "python3",
      "display_name": "Python 3"
    },
    "language_info": {
      "name": "python"
    },
    "accelerator": "GPU",
    "gpuClass": "standard"
  },
  "cells": [
    {
      "cell_type": "markdown",
      "metadata": {
        "id": "view-in-github",
        "colab_type": "text"
      },
      "source": [
        "<a href=\"https://colab.research.google.com/github/kingjiwoo/practice_unet_football_player/blob/main/Football_Player_Segmentation.ipynb\" target=\"_parent\"><img src=\"https://colab.research.google.com/assets/colab-badge.svg\" alt=\"Open In Colab\"/></a>"
      ]
    },
    {
      "cell_type": "code",
      "execution_count": 1,
      "metadata": {
        "id": "XIMiTq2dSEqb"
      },
      "outputs": [],
      "source": [
        "# Common\n",
        "import os \n",
        "import keras\n",
        "import numpy as np\n",
        "import pandas as pd\n",
        "import tensorflow as tf\n",
        "\n",
        "# Data \n",
        "from glob import glob\n",
        "from tqdm import tqdm\n",
        "import tensorflow.image as tfi\n",
        "from tensorflow.keras.utils import load_img, img_to_array\n",
        "\n",
        "# Data Visualization\n",
        "import matplotlib.pyplot as plt\n",
        "\n",
        "# Model\n",
        "from tensorflow.keras.layers import add,Input,Layer,Conv2D,multiply,Dropout,MaxPool2D,Concatenate,Conv2DTranspose,Conv2DTranspose,BatchNormalization\n",
        "from tensorflow.keras.callbacks import Callback, ModelCheckpoint\n",
        "from tensorflow.keras.models import Model\n",
        "\n",
        "# Model Visualization\n",
        "from tensorflow.keras.utils import plot_model"
      ]
    },
    {
      "cell_type": "code",
      "source": [
        "# 경로로 가기\n",
        "!cd /content/drive/MyDrive/football_images\n",
        "# All Images and thier respective maps\n",
        "all_images = glob(\"*.jpg\")\n",
        "all_paths = [path.replace(\".jpg\",\".jpg___fuse.png\") for path in all_images]"
      ],
      "metadata": {
        "id": "V5UWeEHQTFtM"
      },
      "execution_count": 83,
      "outputs": []
    },
    {
      "cell_type": "code",
      "source": [
        "all_images[0]"
      ],
      "metadata": {
        "colab": {
          "base_uri": "https://localhost:8080/",
          "height": 36
        },
        "id": "HICbRG09ierH",
        "outputId": "c071216e-d81f-4009-ce79-69c852ac017a"
      },
      "execution_count": 84,
      "outputs": [
        {
          "output_type": "execute_result",
          "data": {
            "text/plain": [
              "'logo (1).jpg'"
            ],
            "application/vnd.google.colaboratory.intrinsic+json": {
              "type": "string"
            }
          },
          "metadata": {},
          "execution_count": 84
        }
      ]
    },
    {
      "cell_type": "code",
      "source": [
        "all_paths[0]"
      ],
      "metadata": {
        "colab": {
          "base_uri": "https://localhost:8080/",
          "height": 36
        },
        "id": "2fyLWjMslKxF",
        "outputId": "5e402450-e060-4b59-ca34-fa65f2f468e5"
      },
      "execution_count": 85,
      "outputs": [
        {
          "output_type": "execute_result",
          "data": {
            "text/plain": [
              "'logo (1).jpg___fuse.png'"
            ],
            "application/vnd.google.colaboratory.intrinsic+json": {
              "type": "string"
            }
          },
          "metadata": {},
          "execution_count": 85
        }
      ]
    },
    {
      "cell_type": "code",
      "source": [
        "#이미지와 레이블을 맞추기 \n",
        "def load_image(path , SIZE= 256):\n",
        "    image = load_img(path)\n",
        "    image = tfi.resize(image, (SIZE, SIZE))\n",
        "    image = img_to_array(image)\n",
        "    image = tf.cast(image, tf.float32)\n",
        "    image = image/255\n",
        "    return image\n",
        "\n",
        "def load_data(image_paths, label_paths, SIZE=256):\n",
        "    images, label_maps = np.zeros(shape=(len(image_paths),SIZE,SIZE,3)), np.zeros(shape=(len(label_paths), SIZE,SIZE, 3))\n",
        "    for i, (image_path, label_path) in tqdm(enumerate(zip(image_paths, label_paths)),desc=\"Loading\"):\n",
        "        image, label_map = load_image(image_path, SIZE=SIZE), load_image(label_path, SIZE=SIZE)\n",
        "        images[i], label_maps[i] = image, label_map\n",
        "\n",
        "    return images, label_maps"
      ],
      "metadata": {
        "id": "OJ0dPGXamlGG"
      },
      "execution_count": 87,
      "outputs": []
    },
    {
      "cell_type": "code",
      "source": [],
      "metadata": {
        "id": "8rt_Z5Y9pU-q"
      },
      "execution_count": null,
      "outputs": []
    }
  ]
}